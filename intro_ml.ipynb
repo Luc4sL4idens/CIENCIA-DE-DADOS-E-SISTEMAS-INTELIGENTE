{
  "nbformat": 4,
  "nbformat_minor": 0,
  "metadata": {
    "colab": {
      "provenance": [],
      "authorship_tag": "ABX9TyMuwIOBOymlqrnvzEId627m",
      "include_colab_link": true
    },
    "kernelspec": {
      "name": "python3",
      "display_name": "Python 3"
    },
    "language_info": {
      "name": "python"
    }
  },
  "cells": [
    {
      "cell_type": "markdown",
      "metadata": {
        "id": "view-in-github",
        "colab_type": "text"
      },
      "source": [
        "<a href=\"https://colab.research.google.com/github/Luc4sL4idens/CIENCIA-DE-DADOS-E-SISTEMAS-INTELIGENTE/blob/main/intro_ml.ipynb\" target=\"_parent\"><img src=\"https://colab.research.google.com/assets/colab-badge.svg\" alt=\"Open In Colab\"/></a>"
      ]
    },
    {
      "cell_type": "code",
      "execution_count": null,
      "metadata": {
        "colab": {
          "base_uri": "https://localhost:8080/"
        },
        "id": "rv1sPR_MFl-B",
        "outputId": "d47fd9d0-46a4-4e26-82b8-e67306cb3edc"
      },
      "outputs": [
        {
          "output_type": "stream",
          "name": "stdout",
          "text": [
            "Drive already mounted at /content/drive; to attempt to forcibly remount, call drive.mount(\"/content/drive\", force_remount=True).\n"
          ]
        }
      ],
      "source": [
        "import pandas as pd\n",
        "from google.colab import drive\n",
        "drive.mount('/content/drive')\n",
        "flags = pd.read_csv(\"/content/drive/MyDrive/6°SEM/CIÊNCIA DE DADOS E SISTEMAS INTELIGENTE/dados/flags.csv\")"
      ]
    },
    {
      "cell_type": "code",
      "source": [
        "#--------------------------------------------------------\n",
        "# (1) - Conversão dos atribuitos do Grupo 2\n",
        "# De: Categoricos nao binarios\n",
        "# Para: Categóricos binários\n",
        "#--------------------------------------------------------\n",
        "for c in flags.columns:\n",
        "  if c in ['landmass', 'zone', 'language', 'religion', 'mainhue', 'topleft', 'botright']:\n",
        "    dummies = pd.get_dummies(flags[c], prefix=c)\n",
        "    flags = flags. join(dummies)\n",
        "#--------------------------------------------------------\n",
        "# (4) - Imprimir a configuração final de flags\n",
        "#--------------------------------------------------------\n",
        "print(flags)"
      ],
      "metadata": {
        "colab": {
          "base_uri": "https://localhost:8080/"
        },
        "id": "-2YKeIrFFof3",
        "outputId": "6c53480d-a780-4380-df7f-824971b1ed25"
      },
      "execution_count": null,
      "outputs": [
        {
          "output_type": "stream",
          "name": "stdout",
          "text": [
            "       area  population  bars  stripes   colours  red  green  blue  gold  \\\n",
            "0     648.0        16.0   0.0      3.0  4.857143    1      1     0     1   \n",
            "1      29.0         3.0   0.0      0.0  2.857143    1      0     0     1   \n",
            "2    2388.0        20.0   2.0      0.0  2.857143    1      1     0     0   \n",
            "3       0.0         0.0   0.0      0.0  4.857143    1      0     1     1   \n",
            "4       0.0         0.0   3.0      0.0  2.857143    1      0     1     1   \n",
            "..      ...         ...   ...      ...       ...  ...    ...   ...   ...   \n",
            "189     3.0         0.0   0.0      0.0  2.857143    1      0     1     0   \n",
            "190   256.0        22.0   0.0      3.0  3.857143    1      0     1     1   \n",
            "191   905.0        28.0   0.0      0.0  3.857143    1      1     0     1   \n",
            "192   753.0         6.0   3.0      0.0  3.857143    1      1     0     0   \n",
            "193   391.0         8.0   0.0      7.0  4.857143    1      1     0     1   \n",
            "\n",
            "     white  ...  topleft_red  topleft_white  botright_black  botright_blue  \\\n",
            "0        1  ...        False          False           False          False   \n",
            "1        0  ...         True          False           False          False   \n",
            "2        1  ...        False          False           False          False   \n",
            "3        1  ...        False          False           False          False   \n",
            "4        0  ...        False          False           False          False   \n",
            "..     ...  ...          ...            ...             ...            ...   \n",
            "189      1  ...        False          False           False          False   \n",
            "190      1  ...        False          False           False          False   \n",
            "191      0  ...        False          False           False          False   \n",
            "192      0  ...        False          False           False          False   \n",
            "193      1  ...        False          False           False          False   \n",
            "\n",
            "     botright_brown  botright_gold  botright_green  botright_orange  \\\n",
            "0             False          False            True            False   \n",
            "1             False          False           False            False   \n",
            "2             False          False           False            False   \n",
            "3             False          False           False            False   \n",
            "4             False          False           False            False   \n",
            "..              ...            ...             ...              ...   \n",
            "189           False          False           False            False   \n",
            "190           False          False           False            False   \n",
            "191           False          False            True            False   \n",
            "192            True          False           False            False   \n",
            "193           False          False            True            False   \n",
            "\n",
            "     botright_red  botright_white  \n",
            "0           False           False  \n",
            "1            True           False  \n",
            "2           False            True  \n",
            "3            True           False  \n",
            "4            True           False  \n",
            "..            ...             ...  \n",
            "189          True           False  \n",
            "190          True           False  \n",
            "191         False           False  \n",
            "192         False           False  \n",
            "193         False           False  \n",
            "\n",
            "[194 rows x 73 columns]\n"
          ]
        }
      ]
    },
    {
      "cell_type": "code",
      "source": [
        "#--------------------------------------------------------\n",
        "# (2) - Normalização dos atributos dos Grupo 3 e 4\n",
        "# De: Números contínuos e discretos\n",
        "# Para: Números com valores na faixa entre 0 e 1\n",
        "#--------------------------------------------------------\n",
        "\n",
        "for c in flags.columns:\n",
        "  if c in ['area', 'population', 'bars', 'stripes', 'colours', 'circles', 'crosses', 'saltires', 'quarters', 'sunstars']:\n",
        "    c_max = max(flags[c])\n",
        "    c_min = min(flags[c])\n",
        "    flags [c] = (flags[c] - c_min / (c_max - c_min))"
      ],
      "metadata": {
        "id": "omwlT6XVLllf"
      },
      "execution_count": null,
      "outputs": []
    },
    {
      "cell_type": "code",
      "source": [
        "#--------------------------------------------------------\n",
        "# (3) - Exclusão dos atributos indesejados\n",
        "#--------------------------------------------------------\n",
        "\n",
        "flags = flags.drop(columns=['name', 'landmass', 'zone', 'language', 'religion', 'mainhue', 'topleft', 'botright' ])"
      ],
      "metadata": {
        "colab": {
          "base_uri": "https://localhost:8080/",
          "height": 356
        },
        "id": "BZmZ5QgrOWgk",
        "outputId": "13c8e9b7-c55b-468a-fac7-3ef8954c4369"
      },
      "execution_count": null,
      "outputs": [
        {
          "output_type": "error",
          "ename": "KeyError",
          "evalue": "\"['name', 'landmass', 'zone', 'language', 'religion', 'mainhue', 'topleft', 'botright'] not found in axis\"",
          "traceback": [
            "\u001b[0;31m---------------------------------------------------------------------------\u001b[0m",
            "\u001b[0;31mKeyError\u001b[0m                                  Traceback (most recent call last)",
            "\u001b[0;32m/tmp/ipython-input-3054126600.py\u001b[0m in \u001b[0;36m<cell line: 0>\u001b[0;34m()\u001b[0m\n\u001b[1;32m      3\u001b[0m \u001b[0;31m#--------------------------------------------------------\u001b[0m\u001b[0;34m\u001b[0m\u001b[0;34m\u001b[0m\u001b[0m\n\u001b[1;32m      4\u001b[0m \u001b[0;34m\u001b[0m\u001b[0m\n\u001b[0;32m----> 5\u001b[0;31m \u001b[0mflags\u001b[0m \u001b[0;34m=\u001b[0m \u001b[0mflags\u001b[0m\u001b[0;34m.\u001b[0m\u001b[0mdrop\u001b[0m\u001b[0;34m(\u001b[0m\u001b[0mcolumns\u001b[0m\u001b[0;34m=\u001b[0m\u001b[0;34m[\u001b[0m\u001b[0;34m'name'\u001b[0m\u001b[0;34m,\u001b[0m \u001b[0;34m'landmass'\u001b[0m\u001b[0;34m,\u001b[0m \u001b[0;34m'zone'\u001b[0m\u001b[0;34m,\u001b[0m \u001b[0;34m'language'\u001b[0m\u001b[0;34m,\u001b[0m \u001b[0;34m'religion'\u001b[0m\u001b[0;34m,\u001b[0m \u001b[0;34m'mainhue'\u001b[0m\u001b[0;34m,\u001b[0m \u001b[0;34m'topleft'\u001b[0m\u001b[0;34m,\u001b[0m \u001b[0;34m'botright'\u001b[0m \u001b[0;34m]\u001b[0m\u001b[0;34m)\u001b[0m\u001b[0;34m\u001b[0m\u001b[0;34m\u001b[0m\u001b[0m\n\u001b[0m",
            "\u001b[0;32m/usr/local/lib/python3.12/dist-packages/pandas/core/frame.py\u001b[0m in \u001b[0;36mdrop\u001b[0;34m(self, labels, axis, index, columns, level, inplace, errors)\u001b[0m\n\u001b[1;32m   5579\u001b[0m                 \u001b[0mweight\u001b[0m  \u001b[0;36m1.0\u001b[0m     \u001b[0;36m0.8\u001b[0m\u001b[0;34m\u001b[0m\u001b[0;34m\u001b[0m\u001b[0m\n\u001b[1;32m   5580\u001b[0m         \"\"\"\n\u001b[0;32m-> 5581\u001b[0;31m         return super().drop(\n\u001b[0m\u001b[1;32m   5582\u001b[0m             \u001b[0mlabels\u001b[0m\u001b[0;34m=\u001b[0m\u001b[0mlabels\u001b[0m\u001b[0;34m,\u001b[0m\u001b[0;34m\u001b[0m\u001b[0;34m\u001b[0m\u001b[0m\n\u001b[1;32m   5583\u001b[0m             \u001b[0maxis\u001b[0m\u001b[0;34m=\u001b[0m\u001b[0maxis\u001b[0m\u001b[0;34m,\u001b[0m\u001b[0;34m\u001b[0m\u001b[0;34m\u001b[0m\u001b[0m\n",
            "\u001b[0;32m/usr/local/lib/python3.12/dist-packages/pandas/core/generic.py\u001b[0m in \u001b[0;36mdrop\u001b[0;34m(self, labels, axis, index, columns, level, inplace, errors)\u001b[0m\n\u001b[1;32m   4786\u001b[0m         \u001b[0;32mfor\u001b[0m \u001b[0maxis\u001b[0m\u001b[0;34m,\u001b[0m \u001b[0mlabels\u001b[0m \u001b[0;32min\u001b[0m \u001b[0maxes\u001b[0m\u001b[0;34m.\u001b[0m\u001b[0mitems\u001b[0m\u001b[0;34m(\u001b[0m\u001b[0;34m)\u001b[0m\u001b[0;34m:\u001b[0m\u001b[0;34m\u001b[0m\u001b[0;34m\u001b[0m\u001b[0m\n\u001b[1;32m   4787\u001b[0m             \u001b[0;32mif\u001b[0m \u001b[0mlabels\u001b[0m \u001b[0;32mis\u001b[0m \u001b[0;32mnot\u001b[0m \u001b[0;32mNone\u001b[0m\u001b[0;34m:\u001b[0m\u001b[0;34m\u001b[0m\u001b[0;34m\u001b[0m\u001b[0m\n\u001b[0;32m-> 4788\u001b[0;31m                 \u001b[0mobj\u001b[0m \u001b[0;34m=\u001b[0m \u001b[0mobj\u001b[0m\u001b[0;34m.\u001b[0m\u001b[0m_drop_axis\u001b[0m\u001b[0;34m(\u001b[0m\u001b[0mlabels\u001b[0m\u001b[0;34m,\u001b[0m \u001b[0maxis\u001b[0m\u001b[0;34m,\u001b[0m \u001b[0mlevel\u001b[0m\u001b[0;34m=\u001b[0m\u001b[0mlevel\u001b[0m\u001b[0;34m,\u001b[0m \u001b[0merrors\u001b[0m\u001b[0;34m=\u001b[0m\u001b[0merrors\u001b[0m\u001b[0;34m)\u001b[0m\u001b[0;34m\u001b[0m\u001b[0;34m\u001b[0m\u001b[0m\n\u001b[0m\u001b[1;32m   4789\u001b[0m \u001b[0;34m\u001b[0m\u001b[0m\n\u001b[1;32m   4790\u001b[0m         \u001b[0;32mif\u001b[0m \u001b[0minplace\u001b[0m\u001b[0;34m:\u001b[0m\u001b[0;34m\u001b[0m\u001b[0;34m\u001b[0m\u001b[0m\n",
            "\u001b[0;32m/usr/local/lib/python3.12/dist-packages/pandas/core/generic.py\u001b[0m in \u001b[0;36m_drop_axis\u001b[0;34m(self, labels, axis, level, errors, only_slice)\u001b[0m\n\u001b[1;32m   4828\u001b[0m                 \u001b[0mnew_axis\u001b[0m \u001b[0;34m=\u001b[0m \u001b[0maxis\u001b[0m\u001b[0;34m.\u001b[0m\u001b[0mdrop\u001b[0m\u001b[0;34m(\u001b[0m\u001b[0mlabels\u001b[0m\u001b[0;34m,\u001b[0m \u001b[0mlevel\u001b[0m\u001b[0;34m=\u001b[0m\u001b[0mlevel\u001b[0m\u001b[0;34m,\u001b[0m \u001b[0merrors\u001b[0m\u001b[0;34m=\u001b[0m\u001b[0merrors\u001b[0m\u001b[0;34m)\u001b[0m\u001b[0;34m\u001b[0m\u001b[0;34m\u001b[0m\u001b[0m\n\u001b[1;32m   4829\u001b[0m             \u001b[0;32melse\u001b[0m\u001b[0;34m:\u001b[0m\u001b[0;34m\u001b[0m\u001b[0;34m\u001b[0m\u001b[0m\n\u001b[0;32m-> 4830\u001b[0;31m                 \u001b[0mnew_axis\u001b[0m \u001b[0;34m=\u001b[0m \u001b[0maxis\u001b[0m\u001b[0;34m.\u001b[0m\u001b[0mdrop\u001b[0m\u001b[0;34m(\u001b[0m\u001b[0mlabels\u001b[0m\u001b[0;34m,\u001b[0m \u001b[0merrors\u001b[0m\u001b[0;34m=\u001b[0m\u001b[0merrors\u001b[0m\u001b[0;34m)\u001b[0m\u001b[0;34m\u001b[0m\u001b[0;34m\u001b[0m\u001b[0m\n\u001b[0m\u001b[1;32m   4831\u001b[0m             \u001b[0mindexer\u001b[0m \u001b[0;34m=\u001b[0m \u001b[0maxis\u001b[0m\u001b[0;34m.\u001b[0m\u001b[0mget_indexer\u001b[0m\u001b[0;34m(\u001b[0m\u001b[0mnew_axis\u001b[0m\u001b[0;34m)\u001b[0m\u001b[0;34m\u001b[0m\u001b[0;34m\u001b[0m\u001b[0m\n\u001b[1;32m   4832\u001b[0m \u001b[0;34m\u001b[0m\u001b[0m\n",
            "\u001b[0;32m/usr/local/lib/python3.12/dist-packages/pandas/core/indexes/base.py\u001b[0m in \u001b[0;36mdrop\u001b[0;34m(self, labels, errors)\u001b[0m\n\u001b[1;32m   7068\u001b[0m         \u001b[0;32mif\u001b[0m \u001b[0mmask\u001b[0m\u001b[0;34m.\u001b[0m\u001b[0many\u001b[0m\u001b[0;34m(\u001b[0m\u001b[0;34m)\u001b[0m\u001b[0;34m:\u001b[0m\u001b[0;34m\u001b[0m\u001b[0;34m\u001b[0m\u001b[0m\n\u001b[1;32m   7069\u001b[0m             \u001b[0;32mif\u001b[0m \u001b[0merrors\u001b[0m \u001b[0;34m!=\u001b[0m \u001b[0;34m\"ignore\"\u001b[0m\u001b[0;34m:\u001b[0m\u001b[0;34m\u001b[0m\u001b[0;34m\u001b[0m\u001b[0m\n\u001b[0;32m-> 7070\u001b[0;31m                 \u001b[0;32mraise\u001b[0m \u001b[0mKeyError\u001b[0m\u001b[0;34m(\u001b[0m\u001b[0;34mf\"{labels[mask].tolist()} not found in axis\"\u001b[0m\u001b[0;34m)\u001b[0m\u001b[0;34m\u001b[0m\u001b[0;34m\u001b[0m\u001b[0m\n\u001b[0m\u001b[1;32m   7071\u001b[0m             \u001b[0mindexer\u001b[0m \u001b[0;34m=\u001b[0m \u001b[0mindexer\u001b[0m\u001b[0;34m[\u001b[0m\u001b[0;34m~\u001b[0m\u001b[0mmask\u001b[0m\u001b[0;34m]\u001b[0m\u001b[0;34m\u001b[0m\u001b[0;34m\u001b[0m\u001b[0m\n\u001b[1;32m   7072\u001b[0m         \u001b[0;32mreturn\u001b[0m \u001b[0mself\u001b[0m\u001b[0;34m.\u001b[0m\u001b[0mdelete\u001b[0m\u001b[0;34m(\u001b[0m\u001b[0mindexer\u001b[0m\u001b[0;34m)\u001b[0m\u001b[0;34m\u001b[0m\u001b[0;34m\u001b[0m\u001b[0m\n",
            "\u001b[0;31mKeyError\u001b[0m: \"['name', 'landmass', 'zone', 'language', 'religion', 'mainhue', 'topleft', 'botright'] not found in axis\""
          ]
        }
      ]
    },
    {
      "cell_type": "code",
      "source": [
        "#--------------------------------------------------------\n",
        "# (4) - Imprimir a configuração final de flags\n",
        "#--------------------------------------------------------\n",
        "# imprime as primeiras linhas\n",
        "print(\"head(): \")\n",
        "print(flags.head())\n",
        "print(\"-------------------------------\")\n",
        "\n",
        "# imprime as ultimas linhas\n",
        "print(\"tails(): \")\n",
        "print(flags.tail())\n",
        "print(\"-------------------------------\")\n",
        "\n",
        "# imprime a quantidade de linhas e colunas\n",
        "print(\"shape: \")\n",
        "print(flags.shape)"
      ],
      "metadata": {
        "colab": {
          "base_uri": "https://localhost:8080/"
        },
        "id": "azLjsi0WG6rZ",
        "outputId": "5ca7c1cf-4467-41e0-bc4f-fb6e37deef12"
      },
      "execution_count": null,
      "outputs": [
        {
          "output_type": "stream",
          "name": "stdout",
          "text": [
            "head(): \n",
            "   area  population  bars  stripes  colours  red  green  blue  gold  white  \\\n",
            "0   648          16     0        3        5    1      1     0     1      1   \n",
            "1    29           3     0        0        3    1      0     0     1      0   \n",
            "2  2388          20     2        0        3    1      1     0     0      1   \n",
            "3     0           0     0        0        5    1      0     1     1      1   \n",
            "4     0           0     3        0        3    1      0     1     1      0   \n",
            "\n",
            "   ...  topleft_red  topleft_white  botright_black  botright_blue  \\\n",
            "0  ...        False          False           False          False   \n",
            "1  ...         True          False           False          False   \n",
            "2  ...        False          False           False          False   \n",
            "3  ...        False          False           False          False   \n",
            "4  ...        False          False           False          False   \n",
            "\n",
            "   botright_brown  botright_gold  botright_green  botright_orange  \\\n",
            "0           False          False            True            False   \n",
            "1           False          False           False            False   \n",
            "2           False          False           False            False   \n",
            "3           False          False           False            False   \n",
            "4           False          False           False            False   \n",
            "\n",
            "   botright_red  botright_white  \n",
            "0         False           False  \n",
            "1          True           False  \n",
            "2         False            True  \n",
            "3          True           False  \n",
            "4          True           False  \n",
            "\n",
            "[5 rows x 73 columns]\n",
            "-------------------------------\n",
            "tails(): \n",
            "     area  population  bars  stripes  colours  red  green  blue  gold  white  \\\n",
            "189     3           0     0        0        3    1      0     1     0      1   \n",
            "190   256          22     0        3        4    1      0     1     1      1   \n",
            "191   905          28     0        0        4    1      1     0     1      0   \n",
            "192   753           6     3        0        4    1      1     0     0      0   \n",
            "193   391           8     0        7        5    1      1     0     1      1   \n",
            "\n",
            "     ...  topleft_red  topleft_white  botright_black  botright_blue  \\\n",
            "189  ...        False          False           False          False   \n",
            "190  ...        False          False           False          False   \n",
            "191  ...        False          False           False          False   \n",
            "192  ...        False          False           False          False   \n",
            "193  ...        False          False           False          False   \n",
            "\n",
            "     botright_brown  botright_gold  botright_green  botright_orange  \\\n",
            "189           False          False           False            False   \n",
            "190           False          False           False            False   \n",
            "191           False          False            True            False   \n",
            "192            True          False           False            False   \n",
            "193           False          False            True            False   \n",
            "\n",
            "     botright_red  botright_white  \n",
            "189          True           False  \n",
            "190          True           False  \n",
            "191         False           False  \n",
            "192         False           False  \n",
            "193         False           False  \n",
            "\n",
            "[5 rows x 73 columns]\n",
            "-------------------------------\n",
            "shape: \n",
            "(194, 73)\n"
          ]
        }
      ]
    }
  ]
}